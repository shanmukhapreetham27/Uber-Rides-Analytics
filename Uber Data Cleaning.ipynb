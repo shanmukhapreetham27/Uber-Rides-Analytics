{
 "cells": [
  {
   "cell_type": "markdown",
   "id": "256b776e",
   "metadata": {},
   "source": [
    "# UBER Rides Data Preprocessing\n",
    "\n",
    "### Steps for Data Cleaning and Preprocessing in Python\n",
    "\n",
    "**Step 1: Load the Data**\n",
    "- Import the dataset using libraries like `pandas` and check the first few rows to understand the structure.\n",
    "\n",
    "**Step 2: Understand the Data**\n",
    "- Analyze the dataset using descriptive statistics and metadata to understand data types, null values, and duplicates.\n",
    "\n",
    "**Step 3: Handle Duplicates**\n",
    "- Identify and remove duplicate rows to maintain data consistency.\n",
    "\n",
    "**Step 4: Handle Missing Values**\n",
    "- Decide whether to drop rows with null values or fill them with appropriate defaults (e.g., mean, median, or a placeholder).\n",
    "\n",
    "**Step 5: Fix Data Types**\n",
    "- Ensure each column has the correct data type (e.g., convert dates to `datetime`, numerical columns to `float` or `int`, and categorical columns to `category`).\n",
    "\n",
    "**Step 6: Remove Unnecessary Columns**\n",
    "- Drop columns that are not needed for analysis to simplify the dataset.\n",
    "\n",
    "**Step 7: Handle Outliers**\n",
    "- Detect and handle outliers in numerical columns to ensure data is within a reasonable range.\n",
    "\n",
    "**Step 8: Save Cleaned Data**\n",
    "- Save the cleaned dataset in a preferred format (Excel, CSV, etc.) for further use.\n",
    "\n",
    "**Step 9: Perform Advanced Data Analysis**\n",
    "- Use statistical methods and tools to derive insights, and prepare the dataset for machine learning if needed.\n",
    "\n",
    "**Step 10: Visualize Data**\n",
    "- Create visualizations like histograms, scatter plots, and bar charts to explore patterns and relationships in the data.\n"
   ]
  },
  {
   "cell_type": "markdown",
   "id": "d369dcdd",
   "metadata": {},
   "source": [
    "### Step 1: Load the Data"
   ]
  },
  {
   "cell_type": "code",
   "execution_count": 2,
   "id": "9712c941",
   "metadata": {},
   "outputs": [
    {
     "name": "stdout",
     "output_type": "stream",
     "text": [
      "                  Date   Time     Booking ID         Booking Status  \\\n",
      "0  2024-12-26 00:00:00  02:30  CNR1289824197                Success   \n",
      "1  2024-12-19 00:00:00  12:00  CNR8391233393                Success   \n",
      "2  2024-12-09 00:00:00  23:45  CNR4738122268    Cancelled by Driver   \n",
      "3  2024-12-13 00:00:00  12:45  CNR7895469453                Success   \n",
      "4  2024-12-26 00:00:00  20:45  CNR9436215893  Cancelled by Customer   \n",
      "\n",
      "  Customer ID Vehicle Type Pickup Location Drop Location  Avg VTAT  Avg CTAT  \\\n",
      "0   CUS305139         Mini          Malden        Boston      10.0      11.0   \n",
      "1   CUS670211   Prime Plus          Quincy   Springfield       4.0       5.0   \n",
      "2   CUS495406   Prime Plus     Marlborough    Winchester       NaN       NaN   \n",
      "3   CUS596831   Prime Plus      Winchester       Duxbury      14.0      14.0   \n",
      "4   CUS223143         Bike         Taunton    Winchester       NaN       NaN   \n",
      "\n",
      "   Cancelled Rides by Customer Reason for Cancelling by Customer  \\\n",
      "0                            0                               NaN   \n",
      "1                            0                               NaN   \n",
      "2                            0                               NaN   \n",
      "3                            0                               NaN   \n",
      "4                            1                 AC is not working   \n",
      "\n",
      "   Cancelled Rides by Driver Reason for Cancelling by Driver  \\\n",
      "0                          0                             NaN   \n",
      "1                          0                             NaN   \n",
      "2                          1          Customer related issue   \n",
      "3                          0                             NaN   \n",
      "4                          0                             NaN   \n",
      "\n",
      "   Incomplete Rides Incomplete Rides Reason  Booking Value  Ride Distance  \\\n",
      "0                 0                     NaN          230.0           34.6   \n",
      "1                 0                     NaN          280.0           27.8   \n",
      "2                 0                     NaN            NaN            NaN   \n",
      "3                 0                     NaN           60.0           34.2   \n",
      "4                 0                     NaN            NaN            NaN   \n",
      "\n",
      "   Driver Ratings  Customer Rating  \n",
      "0             3.1              3.4  \n",
      "1             3.6              3.8  \n",
      "2             NaN              NaN  \n",
      "3             5.0              4.6  \n",
      "4             NaN              NaN  \n"
     ]
    }
   ],
   "source": [
    "import pandas as pd\n",
    "\n",
    "# Load data into a DataFrame\n",
    "file_path = \"Uber Dataset.csv\"\n",
    "df = pd.read_csv(file_path)\n",
    "\n",
    "# View the first few rows\n",
    "print(df.head())\n"
   ]
  },
  {
   "cell_type": "markdown",
   "id": "91645fdb",
   "metadata": {},
   "source": [
    "### Step 2: Exploring the Data"
   ]
  },
  {
   "cell_type": "code",
   "execution_count": 3,
   "id": "5fc10b83",
   "metadata": {},
   "outputs": [
    {
     "name": "stdout",
     "output_type": "stream",
     "text": [
      "<class 'pandas.core.frame.DataFrame'>\n",
      "RangeIndex: 50000 entries, 0 to 49999\n",
      "Data columns (total 20 columns):\n",
      " #   Column                             Non-Null Count  Dtype  \n",
      "---  ------                             --------------  -----  \n",
      " 0   Date                               50000 non-null  object \n",
      " 1   Time                               50000 non-null  object \n",
      " 2   Booking ID                         50000 non-null  object \n",
      " 3   Booking Status                     50000 non-null  object \n",
      " 4   Customer ID                        50000 non-null  object \n",
      " 5   Vehicle Type                       50000 non-null  object \n",
      " 6   Pickup Location                    50000 non-null  object \n",
      " 7   Drop Location                      50000 non-null  object \n",
      " 8   Avg VTAT                           33336 non-null  float64\n",
      " 9   Avg CTAT                           33336 non-null  float64\n",
      " 10  Cancelled Rides by Customer        50000 non-null  int64  \n",
      " 11  Reason for Cancelling by Customer  3778 non-null   object \n",
      " 12  Cancelled Rides by Driver          50000 non-null  int64  \n",
      " 13  Reason for Cancelling by Driver    9589 non-null   object \n",
      " 14  Incomplete Rides                   50000 non-null  int64  \n",
      " 15  Incomplete Rides Reason            3297 non-null   object \n",
      " 16  Booking Value                      33336 non-null  float64\n",
      " 17  Ride Distance                      33336 non-null  float64\n",
      " 18  Driver Ratings                     33336 non-null  float64\n",
      " 19  Customer Rating                    33336 non-null  float64\n",
      "dtypes: float64(6), int64(3), object(11)\n",
      "memory usage: 7.6+ MB\n",
      "None\n",
      "           Avg VTAT      Avg CTAT  Cancelled Rides by Customer  \\\n",
      "count  33336.000000  33336.000000                 50000.000000   \n",
      "mean       7.999850      7.963403                     0.075560   \n",
      "std        4.333699      4.322632                     0.264295   \n",
      "min        1.000000      1.000000                     0.000000   \n",
      "25%        4.000000      4.000000                     0.000000   \n",
      "50%        8.000000      8.000000                     0.000000   \n",
      "75%       12.000000     12.000000                     0.000000   \n",
      "max       15.000000     15.000000                     1.000000   \n",
      "\n",
      "       Cancelled Rides by Driver  Incomplete Rides  Booking Value  \\\n",
      "count               50000.000000       50000.00000   33336.000000   \n",
      "mean                    0.191780           0.06594     432.564495   \n",
      "std                     0.393705           0.24818     281.706347   \n",
      "min                     0.000000           0.00000      50.000000   \n",
      "25%                     0.000000           0.00000     210.000000   \n",
      "50%                     0.000000           0.00000     380.000000   \n",
      "75%                     0.000000           0.00000     620.000000   \n",
      "max                     1.000000           1.00000    1490.000000   \n",
      "\n",
      "       Ride Distance  Driver Ratings  Customer Rating  \n",
      "count   33336.000000    33336.000000     33336.000000  \n",
      "mean       25.573818        4.002007         3.996037  \n",
      "std        14.157181        0.578190         0.580563  \n",
      "min         1.000000        3.000000         3.000000  \n",
      "25%        13.300000        3.500000         3.500000  \n",
      "50%        25.600000        4.000000         4.000000  \n",
      "75%        37.900000        4.500000         4.500000  \n",
      "max        50.000000        5.000000         5.000000  \n",
      "                       Date   Time     Booking ID Booking Status Customer ID  \\\n",
      "count                 50000  50000          50000          50000       50000   \n",
      "unique                   31     96          49999              4       48618   \n",
      "top     2024-12-29 00:00:00  13:15  CNR2470545468        Success   CUS739620   \n",
      "freq                   1711    573              2          33336           3   \n",
      "\n",
      "       Vehicle Type Pickup Location Drop Location  \\\n",
      "count         50000           50000         50000   \n",
      "unique            6              51            51   \n",
      "top           eBike         Amherst       Duxbury   \n",
      "freq           8497            1066          1030   \n",
      "\n",
      "       Reason for Cancelling by Customer Reason for Cancelling by Driver  \\\n",
      "count                               3778                            9589   \n",
      "unique                                 5                               4   \n",
      "top                        Wrong Address          Customer related issue   \n",
      "freq                                 785                            2444   \n",
      "\n",
      "       Incomplete Rides Reason  \n",
      "count                     3297  \n",
      "unique                       3  \n",
      "top          Vehicle Breakdown  \n",
      "freq                      1115  \n"
     ]
    }
   ],
   "source": [
    "# Get basic info\n",
    "print(df.info())  # Check data types and non-null counts\n",
    "\n",
    "# Get descriptive statistics\n",
    "print(df.describe())  # Summary for numerical columns\n",
    "print(df.describe(include='object'))  # Summary for categorical columns\n"
   ]
  },
  {
   "cell_type": "code",
   "execution_count": 4,
   "id": "dfaa371d",
   "metadata": {},
   "outputs": [
    {
     "name": "stdout",
     "output_type": "stream",
     "text": [
      "Duplicate rows: 0\n"
     ]
    }
   ],
   "source": [
    "# Check for duplicates\n",
    "print(f\"Duplicate rows: {df.duplicated().sum()}\")\n"
   ]
  },
  {
   "cell_type": "code",
   "execution_count": 5,
   "id": "09d29851",
   "metadata": {},
   "outputs": [
    {
     "name": "stdout",
     "output_type": "stream",
     "text": [
      "Date                                     0\n",
      "Time                                     0\n",
      "Booking ID                               0\n",
      "Booking Status                           0\n",
      "Customer ID                              0\n",
      "Vehicle Type                             0\n",
      "Pickup Location                          0\n",
      "Drop Location                            0\n",
      "Avg VTAT                             16664\n",
      "Avg CTAT                             16664\n",
      "Cancelled Rides by Customer              0\n",
      "Reason for Cancelling by Customer    46222\n",
      "Cancelled Rides by Driver                0\n",
      "Reason for Cancelling by Driver      40411\n",
      "Incomplete Rides                         0\n",
      "Incomplete Rides Reason              46703\n",
      "Booking Value                        16664\n",
      "Ride Distance                        16664\n",
      "Driver Ratings                       16664\n",
      "Customer Rating                      16664\n",
      "dtype: int64\n"
     ]
    }
   ],
   "source": [
    "# Check for null values\n",
    "print(df.isnull().sum())"
   ]
  },
  {
   "cell_type": "markdown",
   "id": "a1de8026",
   "metadata": {},
   "source": [
    "### Step 3: Handle Duplicates"
   ]
  },
  {
   "cell_type": "code",
   "execution_count": 6,
   "id": "82605557",
   "metadata": {},
   "outputs": [
    {
     "name": "stdout",
     "output_type": "stream",
     "text": [
      "Duplicate rows after cleaning: 0\n"
     ]
    }
   ],
   "source": [
    "# Drop duplicate rows\n",
    "df = df.drop_duplicates()\n",
    "\n",
    "# Verify\n",
    "print(f\"Duplicate rows after cleaning: {df.duplicated().sum()}\")\n"
   ]
  },
  {
   "cell_type": "markdown",
   "id": "de555a43",
   "metadata": {},
   "source": [
    "### Step 4: Handle Missing Values"
   ]
  },
  {
   "cell_type": "code",
   "execution_count": 9,
   "id": "3ed395b6",
   "metadata": {},
   "outputs": [
    {
     "name": "stdout",
     "output_type": "stream",
     "text": [
      "Date                                 0\n",
      "Time                                 0\n",
      "Booking ID                           0\n",
      "Booking Status                       0\n",
      "Customer ID                          0\n",
      "Vehicle Type                         0\n",
      "Pickup Location                      0\n",
      "Drop Location                        0\n",
      "Avg VTAT                             0\n",
      "Avg CTAT                             0\n",
      "Cancelled Rides by Customer          0\n",
      "Reason for Cancelling by Customer    0\n",
      "Cancelled Rides by Driver            0\n",
      "Reason for Cancelling by Driver      0\n",
      "Incomplete Rides                     0\n",
      "Incomplete Rides Reason              0\n",
      "Booking Value                        0\n",
      "Ride Distance                        0\n",
      "Driver Ratings                       0\n",
      "Customer Rating                      0\n",
      "dtype: int64\n"
     ]
    }
   ],
   "source": [
    "# Fill missing numerical columns with mean\n",
    "columns_with_mean = ['Avg CTAT', 'Booking Value', 'Ride Distance', 'Driver Ratings', 'Customer Rating']\n",
    "\n",
    "for column in columns_with_mean:\n",
    "    df[column] = df[column].fillna(df[column].mean())\n",
    "\n",
    "# For categorical columns like 'Reason for Cancelling by Driver' and 'Incomplete Rides Reason'\n",
    "# Replace with a default value such as 'Unknown'\n",
    "df['Reason for Cancelling by Driver'] = df['Reason for Cancelling by Driver'].fillna('Unknown')\n",
    "df['Incomplete Rides Reason'] = df['Incomplete Rides Reason'].fillna('Unknown')\n",
    "\n",
    "# Check if nulls are handled\n",
    "print(df.isnull().sum())"
   ]
  },
  {
   "cell_type": "code",
   "execution_count": 10,
   "id": "07f751ab",
   "metadata": {},
   "outputs": [
    {
     "name": "stdout",
     "output_type": "stream",
     "text": [
      "<class 'pandas.core.frame.DataFrame'>\n",
      "Int64Index: 50000 entries, 0 to 49999\n",
      "Data columns (total 20 columns):\n",
      " #   Column                             Non-Null Count  Dtype  \n",
      "---  ------                             --------------  -----  \n",
      " 0   Date                               50000 non-null  object \n",
      " 1   Time                               50000 non-null  object \n",
      " 2   Booking ID                         50000 non-null  object \n",
      " 3   Booking Status                     50000 non-null  object \n",
      " 4   Customer ID                        50000 non-null  object \n",
      " 5   Vehicle Type                       50000 non-null  object \n",
      " 6   Pickup Location                    50000 non-null  object \n",
      " 7   Drop Location                      50000 non-null  object \n",
      " 8   Avg VTAT                           50000 non-null  float64\n",
      " 9   Avg CTAT                           50000 non-null  float64\n",
      " 10  Cancelled Rides by Customer        50000 non-null  int64  \n",
      " 11  Reason for Cancelling by Customer  50000 non-null  object \n",
      " 12  Cancelled Rides by Driver          50000 non-null  int64  \n",
      " 13  Reason for Cancelling by Driver    50000 non-null  object \n",
      " 14  Incomplete Rides                   50000 non-null  int64  \n",
      " 15  Incomplete Rides Reason            50000 non-null  object \n",
      " 16  Booking Value                      50000 non-null  float64\n",
      " 17  Ride Distance                      50000 non-null  float64\n",
      " 18  Driver Ratings                     50000 non-null  float64\n",
      " 19  Customer Rating                    50000 non-null  float64\n",
      "dtypes: float64(6), int64(3), object(11)\n",
      "memory usage: 8.0+ MB\n",
      "None\n"
     ]
    }
   ],
   "source": [
    "print(df.info())"
   ]
  },
  {
   "cell_type": "code",
   "execution_count": 12,
   "id": "53674f68",
   "metadata": {},
   "outputs": [
    {
     "name": "stdout",
     "output_type": "stream",
     "text": [
      "           Avg VTAT      Avg CTAT  Cancelled Rides by Customer  \\\n",
      "count  50000.000000  50000.000000                 50000.000000   \n",
      "mean       7.999850      7.963403                     0.075560   \n",
      "std        3.538575      3.529538                     0.264295   \n",
      "min        1.000000      1.000000                     0.000000   \n",
      "25%        6.000000      6.000000                     0.000000   \n",
      "50%        7.999850      7.963403                     0.000000   \n",
      "75%       10.000000     10.000000                     0.000000   \n",
      "max       15.000000     15.000000                     1.000000   \n",
      "\n",
      "       Cancelled Rides by Driver  Incomplete Rides  Booking Value  \\\n",
      "count               50000.000000       50000.00000   50000.000000   \n",
      "mean                    0.191780           0.06594     432.564495   \n",
      "std                     0.393705           0.24818     230.020320   \n",
      "min                     0.000000           0.00000      50.000000   \n",
      "25%                     0.000000           0.00000     290.000000   \n",
      "50%                     0.000000           0.00000     432.564495   \n",
      "75%                     0.000000           0.00000     460.000000   \n",
      "max                     1.000000           1.00000    1490.000000   \n",
      "\n",
      "       Ride Distance  Driver Ratings  Customer Rating  \n",
      "count   50000.000000    50000.000000     50000.000000  \n",
      "mean       25.573818        4.002007         3.996037  \n",
      "std        11.559695        0.472106         0.474044  \n",
      "min         1.000000        3.000000         3.000000  \n",
      "25%        19.500000        3.800000         3.700000  \n",
      "50%        25.573818        4.002007         3.996037  \n",
      "75%        31.700000        4.300000         4.200000  \n",
      "max        50.000000        5.000000         5.000000  \n"
     ]
    }
   ],
   "source": [
    "print(df.describe())"
   ]
  },
  {
   "cell_type": "markdown",
   "id": "571c61d7",
   "metadata": {},
   "source": [
    "### Step 5: Fix Data Types"
   ]
  },
  {
   "cell_type": "code",
   "execution_count": 13,
   "id": "58d230b1",
   "metadata": {},
   "outputs": [],
   "source": [
    "# Convert dates\n",
    "df['Date'] = pd.to_datetime(df['Date'])\n",
    "\n",
    "# Convert numerical columns\n",
    "df['Booking Value'] = pd.to_numeric(df['Booking Value'], errors='coerce')\n",
    "\n",
    "# Ensure categorical columns have the right type\n",
    "categorical_columns = ['Booking Status', 'Vehicle Type']\n",
    "df[categorical_columns] = df[categorical_columns].astype('category')\n"
   ]
  },
  {
   "cell_type": "markdown",
   "id": "e36c1ea7",
   "metadata": {},
   "source": [
    "### Step 6: Remove Unnecessary Columns"
   ]
  },
  {
   "cell_type": "code",
   "execution_count": 14,
   "id": "34dd556f",
   "metadata": {},
   "outputs": [],
   "source": [
    "# Drop unnecessary columns\n",
    "df = df.drop(['Incomplete Rides Reason'], axis=1)\n"
   ]
  },
  {
   "cell_type": "markdown",
   "id": "392cc243",
   "metadata": {},
   "source": [
    "### Step 7: Handle Outliers"
   ]
  },
  {
   "cell_type": "code",
   "execution_count": 15,
   "id": "826be740",
   "metadata": {},
   "outputs": [
    {
     "name": "stdout",
     "output_type": "stream",
     "text": [
      "            Date   Time     Booking ID         Booking Status Customer ID  \\\n",
      "0     2024-12-26  02:30  CNR1289824197                Success   CUS305139   \n",
      "1     2024-12-19  12:00  CNR8391233393                Success   CUS670211   \n",
      "2     2024-12-09  23:45  CNR4738122268    Cancelled by Driver   CUS495406   \n",
      "3     2024-12-13  12:45  CNR7895469453                Success   CUS596831   \n",
      "4     2024-12-26  20:45  CNR9436215893  Cancelled by Customer   CUS223143   \n",
      "...          ...    ...            ...                    ...         ...   \n",
      "49995 2024-12-12  06:45  CNR7236945914             Incomplete   CUS398063   \n",
      "49996 2024-12-15  05:00  CNR1910011874                Success   CUS870591   \n",
      "49997 2024-12-07  00:30  CNR1635530271  Cancelled by Customer   CUS894125   \n",
      "49998 2024-12-16  21:30  CNR8962436139                Success   CUS554715   \n",
      "49999 2024-12-25  23:15  CNR1523447864                Success   CUS123196   \n",
      "\n",
      "      Vehicle Type Pickup Location Drop Location  Avg VTAT   Avg CTAT  \\\n",
      "0             Mini          Malden        Boston  10.00000  11.000000   \n",
      "1       Prime Plus          Quincy   Springfield   4.00000   5.000000   \n",
      "2       Prime Plus     Marlborough    Winchester   7.99985   7.963403   \n",
      "3       Prime Plus      Winchester       Duxbury  14.00000  14.000000   \n",
      "4             Bike         Taunton    Winchester   7.99985   7.963403   \n",
      "...            ...             ...           ...       ...        ...   \n",
      "49995         Bike     Northampton     Tewksbury   7.99985   7.963403   \n",
      "49996         Mini        Lawrence      Brockton   5.00000   8.000000   \n",
      "49997  Prime Sedan      Framingham     Braintree   7.99985   7.963403   \n",
      "49998   Prime Plus        Plymouth    Shrewsbury  15.00000   2.000000   \n",
      "49999  Prime Sedan         Chelsea     Wellesley   3.00000   4.000000   \n",
      "\n",
      "       Cancelled Rides by Customer Reason for Cancelling by Customer  \\\n",
      "0                                0                           Unknown   \n",
      "1                                0                           Unknown   \n",
      "2                                0                           Unknown   \n",
      "3                                0                           Unknown   \n",
      "4                                1                 AC is not working   \n",
      "...                            ...                               ...   \n",
      "49995                            0                           Unknown   \n",
      "49996                            0                           Unknown   \n",
      "49997                            1                     Wrong Address   \n",
      "49998                            0                           Unknown   \n",
      "49999                            0                           Unknown   \n",
      "\n",
      "       Cancelled Rides by Driver Reason for Cancelling by Driver  \\\n",
      "0                              0                         Unknown   \n",
      "1                              0                         Unknown   \n",
      "2                              1          Customer related issue   \n",
      "3                              0                         Unknown   \n",
      "4                              0                         Unknown   \n",
      "...                          ...                             ...   \n",
      "49995                          0                         Unknown   \n",
      "49996                          0                         Unknown   \n",
      "49997                          0                         Unknown   \n",
      "49998                          0                         Unknown   \n",
      "49999                          0                         Unknown   \n",
      "\n",
      "       Incomplete Rides  Booking Value  Ride Distance  Driver Ratings  \\\n",
      "0                     0     230.000000      34.600000        3.100000   \n",
      "1                     0     280.000000      27.800000        3.600000   \n",
      "2                     0     432.564495      25.573818        4.002007   \n",
      "3                     0      60.000000      34.200000        5.000000   \n",
      "4                     0     432.564495      25.573818        4.002007   \n",
      "...                 ...            ...            ...             ...   \n",
      "49995                 1     432.564495      25.573818        4.002007   \n",
      "49996                 0     750.000000      11.000000        4.400000   \n",
      "49997                 0     432.564495      25.573818        4.002007   \n",
      "49998                 0     730.000000      22.000000        5.000000   \n",
      "49999                 0     850.000000      26.900000        3.700000   \n",
      "\n",
      "       Customer Rating  \n",
      "0             3.400000  \n",
      "1             3.800000  \n",
      "2             3.996037  \n",
      "3             4.600000  \n",
      "4             3.996037  \n",
      "...                ...  \n",
      "49995         3.996037  \n",
      "49996         3.700000  \n",
      "49997         3.996037  \n",
      "49998         4.500000  \n",
      "49999         3.600000  \n",
      "\n",
      "[49475 rows x 19 columns]\n"
     ]
    }
   ],
   "source": [
    "# Remove outliers in 'Booking Value' (example: values above 3 standard deviations)\n",
    "from scipy.stats import zscore\n",
    "\n",
    "df = df[(zscore(df['Booking Value']) < 3)]\n",
    "print(df)"
   ]
  },
  {
   "cell_type": "markdown",
   "id": "2ee07f15",
   "metadata": {},
   "source": [
    "### Step 8: Save Cleaned Data"
   ]
  },
  {
   "cell_type": "code",
   "execution_count": 16,
   "id": "52d5c8aa",
   "metadata": {},
   "outputs": [
    {
     "name": "stdout",
     "output_type": "stream",
     "text": [
      "Cleaned data saved as CSV successfully!\n"
     ]
    }
   ],
   "source": [
    "# Save the cleaned DataFrame to a CSV file\n",
    "df.to_csv(\"Cleaned_Massachusetts_Booking_Data.csv\", index=False)\n",
    "\n",
    "print(\"Cleaned data saved as CSV successfully!\")\n"
   ]
  },
  {
   "cell_type": "code",
   "execution_count": 23,
   "id": "ec865bae",
   "metadata": {},
   "outputs": [
    {
     "name": "stdout",
     "output_type": "stream",
     "text": [
      "['Date', 'Time', 'Booking ID', 'Booking Status', 'Customer ID', 'Vehicle Type', 'Pickup Location', 'Drop Location', 'Avg VTAT', 'Avg CTAT', 'Cancelled Rides by Customer', 'Reason for Cancelling by Customer', 'Cancelled Rides by Driver', 'Reason for Cancelling by Driver', 'Incomplete Rides', 'Booking Value', 'Ride Distance', 'Driver Ratings', 'Customer Rating']\n"
     ]
    }
   ],
   "source": [
    "# Print all column names\n",
    "print(df.columns.tolist())\n"
   ]
  },
  {
   "cell_type": "code",
   "execution_count": 24,
   "id": "62774602",
   "metadata": {},
   "outputs": [
    {
     "name": "stdout",
     "output_type": "stream",
     "text": [
      "Date,Time,Booking ID,Booking Status,Customer ID,Vehicle Type,Pickup Location,Drop Location,Avg VTAT,Avg CTAT,Cancelled Rides by Customer,Reason for Cancelling by Customer,Cancelled Rides by Driver,Reason for Cancelling by Driver,Incomplete Rides,Booking Value,Ride Distance,Driver Ratings,Customer Rating\n",
      "\n"
     ]
    }
   ],
   "source": [
    "with open('Cleaned_Massachusetts_Booking_Data.csv', 'r') as file:\n",
    "    print(file.readline())  # Print the header row\n"
   ]
  },
  {
   "cell_type": "markdown",
   "id": "2ddd0fdc",
   "metadata": {},
   "source": [
    "### Step 9: Perform Advanced Data Analysis"
   ]
  },
  {
   "cell_type": "code",
   "execution_count": 17,
   "id": "bcb5923b",
   "metadata": {},
   "outputs": [
    {
     "name": "stdout",
     "output_type": "stream",
     "text": [
      "Mean Booking Value: 423.2967102985474\n",
      "Median Booking Value: 432.56449484041275\n"
     ]
    }
   ],
   "source": [
    "import numpy as np\n",
    "\n",
    "# Statistical analysis\n",
    "print(f\"Mean Booking Value: {np.mean(df['Booking Value'])}\")\n",
    "print(f\"Median Booking Value: {np.median(df['Booking Value'])}\")\n"
   ]
  },
  {
   "cell_type": "markdown",
   "id": "d2829897",
   "metadata": {},
   "source": [
    "### Machine Learning Random Forest Classifier"
   ]
  },
  {
   "cell_type": "code",
   "execution_count": 18,
   "id": "95449025",
   "metadata": {},
   "outputs": [
    {
     "name": "stdout",
     "output_type": "stream",
     "text": [
      "Model Accuracy: 0.8534613441131885\n"
     ]
    }
   ],
   "source": [
    "from sklearn.model_selection import train_test_split\n",
    "from sklearn.ensemble import RandomForestClassifier\n",
    "\n",
    "# Example: Train a model to predict booking status\n",
    "X = df[['Ride Distance', 'Avg VTAT', 'Avg CTAT']]  # Features\n",
    "y = df['Booking Status']  # Target\n",
    "X_train, X_test, y_train, y_test = train_test_split(X, y, test_size=0.2, random_state=42)\n",
    "\n",
    "model = RandomForestClassifier()\n",
    "model.fit(X_train, y_train)\n",
    "print(f\"Model Accuracy: {model.score(X_test, y_test)}\")\n"
   ]
  },
  {
   "cell_type": "markdown",
   "id": "25f7dfb4",
   "metadata": {},
   "source": [
    "### Step 10: Visualize Data"
   ]
  },
  {
   "cell_type": "code",
   "execution_count": 20,
   "id": "98d61a47",
   "metadata": {},
   "outputs": [
    {
     "data": {
      "image/png": "[encoded data removed]",
      "text/plain": [
       "<Figure size 640x480 with 1 Axes>"
      ]
     },
     "metadata": {},
     "output_type": "display_data"
    }
   ],
   "source": [
    "import matplotlib.pyplot as plt\n",
    "import seaborn as sns\n",
    "\n",
    "# Visualize booking values\n",
    "sns.histplot(df['Booking Value'], bins=30, kde=True)\n",
    "plt.title('Distribution of Booking Values')\n",
    "plt.show()"
   ]
  },
  {
   "cell_type": "code",
   "execution_count": 29,
   "id": "fb078c54",
   "metadata": {},
   "outputs": [
    {
     "name": "stdout",
     "output_type": "stream",
     "text": [
      "File saved successfully!\n"
     ]
    }
   ],
   "source": [
    "import os\n",
    "\n",
    "# Check and remove existing file\n",
    "output_file = \"Cleaned_Massachusetts_Booking_Data.csv\"\n",
    "if os.path.exists(output_file):\n",
    "    os.remove(output_file)\n",
    "\n",
    "# Save the file with corrected header\n",
    "columns = ['Ride_Date', 'Ride_Time', 'Booking ID', 'Booking Status', 'Customer ID', 'Vehicle Type', \n",
    "           'Pickup Location', 'Drop Location', 'Avg VTAT', 'Avg CTAT', \n",
    "           'Cancelled Rides by Customer', 'Reason for Cancelling by Customer', \n",
    "           'Cancelled Rides by Driver', 'Reason for Cancelling by Driver', \n",
    "           'Incomplete Rides', 'Booking Value', 'Ride Distance', 'Driver Ratings', 'Customer Rating']\n",
    "\n",
    "df.to_csv(output_file, index=False, header=columns)\n",
    "print(\"File saved successfully!\")\n"
   ]
  },
  {
   "cell_type": "code",
   "execution_count": null,
   "id": "2677be71",
   "metadata": {},
   "outputs": [],
   "source": []
  }
 ],
 "metadata": {
  "kernelspec": {
   "display_name": "Python 3 (ipykernel)",
   "language": "python",
   "name": "python3"
  },
  "language_info": {
   "codemirror_mode": {
    "name": "ipython",
    "version": 3
   },
   "file_extension": ".py",
   "mimetype": "text/x-python",
   "name": "python",
   "nbconvert_exporter": "python",
   "pygments_lexer": "ipython3",
   "version": "3.11.4"
  }
 },
 "nbformat": 4,
 "nbformat_minor": 5
}
